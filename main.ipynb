{
 "cells": [
  {
   "cell_type": "code",
   "execution_count": null,
   "metadata": {
    "colab": {
     "base_uri": "https://localhost:8080/"
    },
    "executionInfo": {
     "elapsed": 2869,
     "status": "ok",
     "timestamp": 1642399000176,
     "user": {
      "displayName": "이승한",
      "photoUrl": "https://lh3.googleusercontent.com/a/default-user=s64",
      "userId": "04126587144915608864"
     },
     "user_tz": -540
    },
    "id": "5YjgZIzCtTwf",
    "outputId": "90017d61-9655-46f8-ad37-613608cf457e"
   },
   "outputs": [],
   "source": [
    "# from google.colab import drive\n",
    "# drive.mount('/content/drive')"
   ]
  },
  {
   "cell_type": "code",
   "execution_count": 1,
   "metadata": {},
   "outputs": [],
   "source": [
    "from mymodel2 import *\n",
    "from train_utils import *"
   ]
  },
  {
   "cell_type": "code",
   "execution_count": 2,
   "metadata": {},
   "outputs": [],
   "source": [
    "config = {\n",
    "    # DIR\n",
    "    'data_dir' : './simul_data/simul_seasontrend_5000.txt',\n",
    "    'prefix' : '',\n",
    "    'tb_dir': 'runs/',\n",
    "    \n",
    "    # DEVICE\n",
    "    'device' : torch.device('cuda') if torch.cuda.is_available() else torch.device('cpu'),\n",
    "    'seed' : 402,\n",
    "    \n",
    "    # TRAIN\n",
    "    'epochs' : 1000,\n",
    "    'lr' : 5e-3,\n",
    "    'batch_size' : 16, \n",
    "    'loss_type' : 'mse',\n",
    "    'alpha' : 1.0,\n",
    "    'grad_clip' : 1.0,\n",
    "    \n",
    "    # EARLY STOP\n",
    "    'patience' : 7, \n",
    "    'verbose' : False, \n",
    "    'delta' : 0, \n",
    "    \n",
    "    # DATA LOADER\n",
    "    'train_ratio' : 0.6, \n",
    "    'forecast_length' : 5, \n",
    "    'backcast_length' : 20, \n",
    "    'global_backcast' : 40, \n",
    "    'stride' : 5, \n",
    "    'scale_type' : 'minmax', #'None', #'minmax',\n",
    "    'check' : False,\n",
    "    \n",
    "    # MODEL  \n",
    "    ## OVERALL\n",
    "    'dropout' : 0.2,\n",
    "    'weight_sharing' : True,\n",
    "    'return_decomp' : True,\n",
    "    'return_theta' : True,\n",
    "    \n",
    "    # BLOCKS\n",
    "    'cast_lengths' : (20,5), # B/F        \n",
    "    'block_num' : (2,2), # T/S --> num_layers_FC 개수랑 동일해야 의미 있음\n",
    "    'thetas_dim' : (3,7), # T/S\n",
    "    'num_layers_CNN' : (2, 2), # T/S\n",
    "    'num_layers_FC' : (2, 2), # T/S\n",
    "    'middle_dim' : 64,\n",
    "    \n",
    "    ## CONV    \n",
    "    'kernels_trend' : (3,3),  \n",
    "    'kernels_season' : (3,3),\n",
    "    'channels_trend' : (32,32),\n",
    "    'channels_season' : (32,32),\n",
    "    'padding' : 1,\n",
    "    'padding_mode' : 'zeros',\n",
    "    'strides' : 1,\n",
    "\n",
    "}"
   ]
  },
  {
   "cell_type": "code",
   "execution_count": 3,
   "metadata": {},
   "outputs": [
    {
     "name": "stderr",
     "output_type": "stream",
     "text": [
      "C:\\Users\\NormalKim\\Desktop\\TS_nbeats\\mymodel2.py:313: UserWarning: To copy construct from a tensor, it is recommended to use sourceTensor.clone().detach() or sourceTensor.clone().detach().requires_grad_(True), rather than torch.tensor(sourceTensor).\n",
      "  backcast = torch.tensor(h_prev).squeeze(1)\n",
      "C:\\Users\\NormalKim\\Desktop\\TS_nbeats\\mymodel2.py:401: UserWarning: To copy construct from a tensor, it is recommended to use sourceTensor.clone().detach() or sourceTensor.clone().detach().requires_grad_(True), rather than torch.tensor(sourceTensor).\n",
      "  backcast = torch.tensor(h_prev).squeeze(1)\n"
     ]
    },
    {
     "name": "stdout",
     "output_type": "stream",
     "text": [
      "1/1000 tr_loss:1.02400, val_loss:0.56574, test_loss:0.70777\n"
     ]
    },
    {
     "name": "stderr",
     "output_type": "stream",
     "text": [
      "C:\\Users\\NormalKim\\Desktop\\TS_nbeats\\mymodel2.py:313: UserWarning: To copy construct from a tensor, it is recommended to use sourceTensor.clone().detach() or sourceTensor.clone().detach().requires_grad_(True), rather than torch.tensor(sourceTensor).\n",
      "  backcast = torch.tensor(h_prev).squeeze(1)\n",
      "C:\\Users\\NormalKim\\Desktop\\TS_nbeats\\mymodel2.py:401: UserWarning: To copy construct from a tensor, it is recommended to use sourceTensor.clone().detach() or sourceTensor.clone().detach().requires_grad_(True), rather than torch.tensor(sourceTensor).\n",
      "  backcast = torch.tensor(h_prev).squeeze(1)\n"
     ]
    },
    {
     "name": "stdout",
     "output_type": "stream",
     "text": [
      "2/1000 tr_loss:0.45708, val_loss:0.42408, test_loss:0.51863\n",
      "3/1000 tr_loss:0.40993, val_loss:0.34245, test_loss:0.51500\n",
      "4/1000 tr_loss:0.35925, val_loss:0.32860, test_loss:0.39468\n",
      "5/1000 tr_loss:0.28731, val_loss:0.29416, test_loss:0.33325\n",
      "6/1000 tr_loss:0.27728, val_loss:0.24751, test_loss:0.33144\n",
      "7/1000 tr_loss:0.23402, val_loss:0.22491, test_loss:0.29108\n",
      "8/1000 tr_loss:0.21237, val_loss:0.22532, test_loss:0.29980\n",
      "EarlyStopping counter: 1 out of 7\n",
      "9/1000 tr_loss:0.20435, val_loss:0.18375, test_loss:0.24652\n",
      "10/1000 tr_loss:0.19494, val_loss:0.14533, test_loss:0.20329\n",
      "11/1000 tr_loss:0.18828, val_loss:0.17417, test_loss:0.24265\n",
      "EarlyStopping counter: 1 out of 7\n"
     ]
    },
    {
     "name": "stderr",
     "output_type": "stream",
     "text": [
      "C:\\Users\\NormalKim\\Desktop\\TS_nbeats\\mymodel2.py:313: UserWarning: To copy construct from a tensor, it is recommended to use sourceTensor.clone().detach() or sourceTensor.clone().detach().requires_grad_(True), rather than torch.tensor(sourceTensor).\n",
      "  backcast = torch.tensor(h_prev).squeeze(1)\n",
      "C:\\Users\\NormalKim\\Desktop\\TS_nbeats\\mymodel2.py:401: UserWarning: To copy construct from a tensor, it is recommended to use sourceTensor.clone().detach() or sourceTensor.clone().detach().requires_grad_(True), rather than torch.tensor(sourceTensor).\n",
      "  backcast = torch.tensor(h_prev).squeeze(1)\n"
     ]
    },
    {
     "name": "stdout",
     "output_type": "stream",
     "text": [
      "12/1000 tr_loss:0.15647, val_loss:0.18544, test_loss:0.24342\n",
      "EarlyStopping counter: 2 out of 7\n",
      "13/1000 tr_loss:0.13480, val_loss:0.13729, test_loss:0.23377\n",
      "14/1000 tr_loss:0.14379, val_loss:0.13774, test_loss:0.18814\n",
      "EarlyStopping counter: 1 out of 7\n",
      "15/1000 tr_loss:0.13497, val_loss:0.12780, test_loss:0.20447\n",
      "16/1000 tr_loss:0.12390, val_loss:0.13712, test_loss:0.19346\n",
      "EarlyStopping counter: 1 out of 7\n",
      "17/1000 tr_loss:0.11744, val_loss:0.11943, test_loss:0.18347\n",
      "18/1000 tr_loss:0.12161, val_loss:0.12703, test_loss:0.16695\n",
      "EarlyStopping counter: 1 out of 7\n",
      "19/1000 tr_loss:0.10300, val_loss:0.12852, test_loss:0.19315\n",
      "EarlyStopping counter: 2 out of 7\n",
      "20/1000 tr_loss:0.10181, val_loss:0.11634, test_loss:0.16002\n",
      "21/1000 tr_loss:0.09883, val_loss:0.10856, test_loss:0.17158\n"
     ]
    },
    {
     "name": "stderr",
     "output_type": "stream",
     "text": [
      "C:\\Users\\NormalKim\\Desktop\\TS_nbeats\\mymodel2.py:313: UserWarning: To copy construct from a tensor, it is recommended to use sourceTensor.clone().detach() or sourceTensor.clone().detach().requires_grad_(True), rather than torch.tensor(sourceTensor).\n",
      "  backcast = torch.tensor(h_prev).squeeze(1)\n",
      "C:\\Users\\NormalKim\\Desktop\\TS_nbeats\\mymodel2.py:401: UserWarning: To copy construct from a tensor, it is recommended to use sourceTensor.clone().detach() or sourceTensor.clone().detach().requires_grad_(True), rather than torch.tensor(sourceTensor).\n",
      "  backcast = torch.tensor(h_prev).squeeze(1)\n"
     ]
    },
    {
     "name": "stdout",
     "output_type": "stream",
     "text": [
      "22/1000 tr_loss:0.09084, val_loss:0.10659, test_loss:0.17066\n",
      "23/1000 tr_loss:0.08691, val_loss:0.09406, test_loss:0.15187\n",
      "24/1000 tr_loss:0.08506, val_loss:0.09195, test_loss:0.15695\n",
      "25/1000 tr_loss:0.08013, val_loss:0.10437, test_loss:0.13020\n",
      "EarlyStopping counter: 1 out of 7\n",
      "26/1000 tr_loss:0.07556, val_loss:0.07487, test_loss:0.12502\n",
      "27/1000 tr_loss:0.07674, val_loss:0.08849, test_loss:0.18891\n",
      "EarlyStopping counter: 1 out of 7\n",
      "28/1000 tr_loss:0.07798, val_loss:0.07687, test_loss:0.11970\n",
      "EarlyStopping counter: 2 out of 7\n",
      "29/1000 tr_loss:0.07040, val_loss:0.07413, test_loss:0.12996\n",
      "30/1000 tr_loss:0.06996, val_loss:0.08292, test_loss:0.15348\n",
      "EarlyStopping counter: 1 out of 7\n",
      "31/1000 tr_loss:0.05740, val_loss:0.07140, test_loss:0.12991\n"
     ]
    },
    {
     "name": "stderr",
     "output_type": "stream",
     "text": [
      "C:\\Users\\NormalKim\\Desktop\\TS_nbeats\\mymodel2.py:313: UserWarning: To copy construct from a tensor, it is recommended to use sourceTensor.clone().detach() or sourceTensor.clone().detach().requires_grad_(True), rather than torch.tensor(sourceTensor).\n",
      "  backcast = torch.tensor(h_prev).squeeze(1)\n",
      "C:\\Users\\NormalKim\\Desktop\\TS_nbeats\\mymodel2.py:401: UserWarning: To copy construct from a tensor, it is recommended to use sourceTensor.clone().detach() or sourceTensor.clone().detach().requires_grad_(True), rather than torch.tensor(sourceTensor).\n",
      "  backcast = torch.tensor(h_prev).squeeze(1)\n"
     ]
    },
    {
     "name": "stdout",
     "output_type": "stream",
     "text": [
      "32/1000 tr_loss:0.06554, val_loss:0.07898, test_loss:0.15906\n",
      "EarlyStopping counter: 1 out of 7\n",
      "33/1000 tr_loss:0.05980, val_loss:0.08155, test_loss:0.12550\n",
      "EarlyStopping counter: 2 out of 7\n",
      "34/1000 tr_loss:0.07880, val_loss:0.07913, test_loss:0.12117\n",
      "EarlyStopping counter: 3 out of 7\n",
      "35/1000 tr_loss:0.06971, val_loss:0.07179, test_loss:0.12257\n",
      "EarlyStopping counter: 4 out of 7\n",
      "36/1000 tr_loss:0.05510, val_loss:0.06555, test_loss:0.11030\n",
      "37/1000 tr_loss:0.05451, val_loss:0.06773, test_loss:0.12242\n",
      "EarlyStopping counter: 1 out of 7\n",
      "38/1000 tr_loss:0.05139, val_loss:0.06536, test_loss:0.11308\n",
      "39/1000 tr_loss:0.04763, val_loss:0.06897, test_loss:0.11242\n",
      "EarlyStopping counter: 1 out of 7\n",
      "40/1000 tr_loss:0.04764, val_loss:0.06530, test_loss:0.11192\n",
      "41/1000 tr_loss:0.04538, val_loss:0.07202, test_loss:0.13283\n",
      "EarlyStopping counter: 1 out of 7\n"
     ]
    },
    {
     "name": "stderr",
     "output_type": "stream",
     "text": [
      "C:\\Users\\NormalKim\\Desktop\\TS_nbeats\\mymodel2.py:313: UserWarning: To copy construct from a tensor, it is recommended to use sourceTensor.clone().detach() or sourceTensor.clone().detach().requires_grad_(True), rather than torch.tensor(sourceTensor).\n",
      "  backcast = torch.tensor(h_prev).squeeze(1)\n",
      "C:\\Users\\NormalKim\\Desktop\\TS_nbeats\\mymodel2.py:401: UserWarning: To copy construct from a tensor, it is recommended to use sourceTensor.clone().detach() or sourceTensor.clone().detach().requires_grad_(True), rather than torch.tensor(sourceTensor).\n",
      "  backcast = torch.tensor(h_prev).squeeze(1)\n"
     ]
    },
    {
     "name": "stdout",
     "output_type": "stream",
     "text": [
      "42/1000 tr_loss:0.03875, val_loss:0.05824, test_loss:0.12911\n",
      "43/1000 tr_loss:0.03663, val_loss:0.06626, test_loss:0.12049\n",
      "EarlyStopping counter: 1 out of 7\n",
      "44/1000 tr_loss:0.03710, val_loss:0.05709, test_loss:0.11818\n",
      "45/1000 tr_loss:0.03774, val_loss:0.06140, test_loss:0.12399\n",
      "EarlyStopping counter: 1 out of 7\n",
      "46/1000 tr_loss:0.03752, val_loss:0.06680, test_loss:0.13837\n",
      "EarlyStopping counter: 2 out of 7\n",
      "47/1000 tr_loss:0.03384, val_loss:0.08082, test_loss:0.13974\n",
      "EarlyStopping counter: 3 out of 7\n",
      "48/1000 tr_loss:0.03136, val_loss:0.06044, test_loss:0.12195\n",
      "EarlyStopping counter: 4 out of 7\n",
      "49/1000 tr_loss:0.03150, val_loss:0.06867, test_loss:0.12813\n",
      "EarlyStopping counter: 5 out of 7\n",
      "50/1000 tr_loss:0.02755, val_loss:0.06890, test_loss:0.12947\n",
      "EarlyStopping counter: 6 out of 7\n",
      "51/1000 tr_loss:0.02645, val_loss:0.07165, test_loss:0.14208\n",
      "EarlyStopping counter: 7 out of 7\n",
      "Early stopping at epoch51\n",
      "Time taken: 52.56027603149414\n"
     ]
    }
   ],
   "source": [
    "# 1, 모델 초기화 --> 이 파트 각자 모델 새로 만들던가, 파라미터 설정해서 해보면 된다 \n",
    "model = CBeatsNet(**config)\n",
    "\n",
    "# 2, config 변경하는 경우 딕셔너리 값 변경 \n",
    "config['lr'] = 5e-4\n",
    "\n",
    "# 3. Train\n",
    "trainer = Trainer(model, config)\n",
    "model = trainer.run()"
   ]
  },
  {
   "cell_type": "code",
   "execution_count": null,
   "metadata": {},
   "outputs": [],
   "source": [
    "import os"
   ]
  },
  {
   "cell_type": "code",
   "execution_count": null,
   "metadata": {},
   "outputs": [],
   "source": [
    "os.path.exists('./')"
   ]
  },
  {
   "cell_type": "code",
   "execution_count": null,
   "metadata": {},
   "outputs": [],
   "source": []
  },
  {
   "cell_type": "code",
   "execution_count": null,
   "metadata": {},
   "outputs": [],
   "source": []
  },
  {
   "cell_type": "code",
   "execution_count": null,
   "metadata": {},
   "outputs": [],
   "source": []
  },
  {
   "cell_type": "code",
   "execution_count": null,
   "metadata": {},
   "outputs": [],
   "source": []
  },
  {
   "cell_type": "code",
   "execution_count": null,
   "metadata": {},
   "outputs": [],
   "source": []
  },
  {
   "cell_type": "code",
   "execution_count": null,
   "metadata": {},
   "outputs": [],
   "source": [
    "#from data import *\n",
    "from mymodel2 import *\n",
    "from train_utils import *\n",
    "#import matplotlib.pyplot as plt \n",
    "seasontrend_5000 = np.loadtxt('./simul_data/simul_seasontrend_5000.txt')\n",
    "seasontrend_5000.shape\n",
    "plt.figure(figsize = (20, 5))\n",
    "plt.plot(seasontrend_5000[:300])"
   ]
  },
  {
   "cell_type": "code",
   "execution_count": null,
   "metadata": {
    "id": "29eyZKeAMEZq"
   },
   "outputs": [],
   "source": []
  }
 ],
 "metadata": {
  "accelerator": "GPU",
  "colab": {
   "collapsed_sections": [],
   "machine_shape": "hm",
   "name": "cbeats_skipconn_SeasonTrend5000_us2.ipynb",
   "provenance": []
  },
  "kernelspec": {
   "display_name": "Python 3",
   "language": "python",
   "name": "python3"
  },
  "language_info": {
   "codemirror_mode": {
    "name": "ipython",
    "version": 3
   },
   "file_extension": ".py",
   "mimetype": "text/x-python",
   "name": "python",
   "nbconvert_exporter": "python",
   "pygments_lexer": "ipython3",
   "version": "3.8.3"
  }
 },
 "nbformat": 4,
 "nbformat_minor": 1
}
